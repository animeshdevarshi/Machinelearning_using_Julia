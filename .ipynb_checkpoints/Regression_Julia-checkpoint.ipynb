{
 "cells": [
  {
   "cell_type": "code",
   "execution_count": 1,
   "metadata": {},
   "outputs": [
    {
     "name": "stderr",
     "output_type": "stream",
     "text": [
      "┌ Info: Recompiling stale cache file C:\\Users\\animesh.devarshi\\.julia\\compiled\\v1.1\\DataFrames\\AR9oZ.ji for DataFrames [a93c6f00-e57d-5684-b7b6-d8193f3e46c0]\n",
      "└ @ Base loading.jl:1184\n",
      "┌ Info: Precompiling CSV [336ed68f-0bac-5ca0-87d4-7b16caf5d00b]\n",
      "└ @ Base loading.jl:1186\n"
     ]
    }
   ],
   "source": [
    "using DataFrames\n",
    "using CSV"
   ]
  },
  {
   "cell_type": "code",
   "execution_count": 2,
   "metadata": {},
   "outputs": [
    {
     "data": {
      "text/html": [
       "<table class=\"data-frame\"><thead><tr><th></th><th>Cement</th><th>Slag</th><th>Ash</th><th>Water</th><th>Superplasticizer</th><th>Coarse_Aggregate</th><th>Fine_Aggregate</th></tr><tr><th></th><th>Float64</th><th>Float64</th><th>Float64</th><th>Float64</th><th>Float64</th><th>Float64</th><th>Float64</th></tr></thead><tbody><p>1,030 rows × 9 columns (omitted printing of 2 columns)</p><tr><th>1</th><td>540.0</td><td>0.0</td><td>0.0</td><td>162.0</td><td>2.5</td><td>1040.0</td><td>676.0</td></tr><tr><th>2</th><td>540.0</td><td>0.0</td><td>0.0</td><td>162.0</td><td>2.5</td><td>1055.0</td><td>676.0</td></tr><tr><th>3</th><td>332.5</td><td>142.5</td><td>0.0</td><td>228.0</td><td>0.0</td><td>932.0</td><td>594.0</td></tr><tr><th>4</th><td>332.5</td><td>142.5</td><td>0.0</td><td>228.0</td><td>0.0</td><td>932.0</td><td>594.0</td></tr><tr><th>5</th><td>198.6</td><td>132.4</td><td>0.0</td><td>192.0</td><td>0.0</td><td>978.4</td><td>825.5</td></tr><tr><th>6</th><td>266.0</td><td>114.0</td><td>0.0</td><td>228.0</td><td>0.0</td><td>932.0</td><td>670.0</td></tr><tr><th>7</th><td>380.0</td><td>95.0</td><td>0.0</td><td>228.0</td><td>0.0</td><td>932.0</td><td>594.0</td></tr><tr><th>8</th><td>380.0</td><td>95.0</td><td>0.0</td><td>228.0</td><td>0.0</td><td>932.0</td><td>594.0</td></tr><tr><th>9</th><td>266.0</td><td>114.0</td><td>0.0</td><td>228.0</td><td>0.0</td><td>932.0</td><td>670.0</td></tr><tr><th>10</th><td>475.0</td><td>0.0</td><td>0.0</td><td>228.0</td><td>0.0</td><td>932.0</td><td>594.0</td></tr><tr><th>11</th><td>198.6</td><td>132.4</td><td>0.0</td><td>192.0</td><td>0.0</td><td>978.4</td><td>825.5</td></tr><tr><th>12</th><td>198.6</td><td>132.4</td><td>0.0</td><td>192.0</td><td>0.0</td><td>978.4</td><td>825.5</td></tr><tr><th>13</th><td>427.5</td><td>47.5</td><td>0.0</td><td>228.0</td><td>0.0</td><td>932.0</td><td>594.0</td></tr><tr><th>14</th><td>190.0</td><td>190.0</td><td>0.0</td><td>228.0</td><td>0.0</td><td>932.0</td><td>670.0</td></tr><tr><th>15</th><td>304.0</td><td>76.0</td><td>0.0</td><td>228.0</td><td>0.0</td><td>932.0</td><td>670.0</td></tr><tr><th>16</th><td>380.0</td><td>0.0</td><td>0.0</td><td>228.0</td><td>0.0</td><td>932.0</td><td>670.0</td></tr><tr><th>17</th><td>139.6</td><td>209.4</td><td>0.0</td><td>192.0</td><td>0.0</td><td>1047.0</td><td>806.9</td></tr><tr><th>18</th><td>342.0</td><td>38.0</td><td>0.0</td><td>228.0</td><td>0.0</td><td>932.0</td><td>670.0</td></tr><tr><th>19</th><td>380.0</td><td>95.0</td><td>0.0</td><td>228.0</td><td>0.0</td><td>932.0</td><td>594.0</td></tr><tr><th>20</th><td>475.0</td><td>0.0</td><td>0.0</td><td>228.0</td><td>0.0</td><td>932.0</td><td>594.0</td></tr><tr><th>21</th><td>427.5</td><td>47.5</td><td>0.0</td><td>228.0</td><td>0.0</td><td>932.0</td><td>594.0</td></tr><tr><th>22</th><td>139.6</td><td>209.4</td><td>0.0</td><td>192.0</td><td>0.0</td><td>1047.0</td><td>806.9</td></tr><tr><th>23</th><td>139.6</td><td>209.4</td><td>0.0</td><td>192.0</td><td>0.0</td><td>1047.0</td><td>806.9</td></tr><tr><th>24</th><td>139.6</td><td>209.4</td><td>0.0</td><td>192.0</td><td>0.0</td><td>1047.0</td><td>806.9</td></tr><tr><th>25</th><td>380.0</td><td>0.0</td><td>0.0</td><td>228.0</td><td>0.0</td><td>932.0</td><td>670.0</td></tr><tr><th>26</th><td>380.0</td><td>0.0</td><td>0.0</td><td>228.0</td><td>0.0</td><td>932.0</td><td>670.0</td></tr><tr><th>27</th><td>380.0</td><td>95.0</td><td>0.0</td><td>228.0</td><td>0.0</td><td>932.0</td><td>594.0</td></tr><tr><th>28</th><td>342.0</td><td>38.0</td><td>0.0</td><td>228.0</td><td>0.0</td><td>932.0</td><td>670.0</td></tr><tr><th>29</th><td>427.5</td><td>47.5</td><td>0.0</td><td>228.0</td><td>0.0</td><td>932.0</td><td>594.0</td></tr><tr><th>30</th><td>475.0</td><td>0.0</td><td>0.0</td><td>228.0</td><td>0.0</td><td>932.0</td><td>594.0</td></tr><tr><th>&vellip;</th><td>&vellip;</td><td>&vellip;</td><td>&vellip;</td><td>&vellip;</td><td>&vellip;</td><td>&vellip;</td><td>&vellip;</td></tr></tbody></table>"
      ],
      "text/latex": [
       "\\begin{tabular}{r|cccccccc}\n",
       "\t& Cement & Slag & Ash & Water & Superplasticizer & Coarse\\_Aggregate & Fine\\_Aggregate & \\\\\n",
       "\t\\hline\n",
       "\t& Float64 & Float64 & Float64 & Float64 & Float64 & Float64 & Float64 & \\\\\n",
       "\t\\hline\n",
       "\t1 & 540.0 & 0.0 & 0.0 & 162.0 & 2.5 & 1040.0 & 676.0 & $\\dots$ \\\\\n",
       "\t2 & 540.0 & 0.0 & 0.0 & 162.0 & 2.5 & 1055.0 & 676.0 & $\\dots$ \\\\\n",
       "\t3 & 332.5 & 142.5 & 0.0 & 228.0 & 0.0 & 932.0 & 594.0 & $\\dots$ \\\\\n",
       "\t4 & 332.5 & 142.5 & 0.0 & 228.0 & 0.0 & 932.0 & 594.0 & $\\dots$ \\\\\n",
       "\t5 & 198.6 & 132.4 & 0.0 & 192.0 & 0.0 & 978.4 & 825.5 & $\\dots$ \\\\\n",
       "\t6 & 266.0 & 114.0 & 0.0 & 228.0 & 0.0 & 932.0 & 670.0 & $\\dots$ \\\\\n",
       "\t7 & 380.0 & 95.0 & 0.0 & 228.0 & 0.0 & 932.0 & 594.0 & $\\dots$ \\\\\n",
       "\t8 & 380.0 & 95.0 & 0.0 & 228.0 & 0.0 & 932.0 & 594.0 & $\\dots$ \\\\\n",
       "\t9 & 266.0 & 114.0 & 0.0 & 228.0 & 0.0 & 932.0 & 670.0 & $\\dots$ \\\\\n",
       "\t10 & 475.0 & 0.0 & 0.0 & 228.0 & 0.0 & 932.0 & 594.0 & $\\dots$ \\\\\n",
       "\t11 & 198.6 & 132.4 & 0.0 & 192.0 & 0.0 & 978.4 & 825.5 & $\\dots$ \\\\\n",
       "\t12 & 198.6 & 132.4 & 0.0 & 192.0 & 0.0 & 978.4 & 825.5 & $\\dots$ \\\\\n",
       "\t13 & 427.5 & 47.5 & 0.0 & 228.0 & 0.0 & 932.0 & 594.0 & $\\dots$ \\\\\n",
       "\t14 & 190.0 & 190.0 & 0.0 & 228.0 & 0.0 & 932.0 & 670.0 & $\\dots$ \\\\\n",
       "\t15 & 304.0 & 76.0 & 0.0 & 228.0 & 0.0 & 932.0 & 670.0 & $\\dots$ \\\\\n",
       "\t16 & 380.0 & 0.0 & 0.0 & 228.0 & 0.0 & 932.0 & 670.0 & $\\dots$ \\\\\n",
       "\t17 & 139.6 & 209.4 & 0.0 & 192.0 & 0.0 & 1047.0 & 806.9 & $\\dots$ \\\\\n",
       "\t18 & 342.0 & 38.0 & 0.0 & 228.0 & 0.0 & 932.0 & 670.0 & $\\dots$ \\\\\n",
       "\t19 & 380.0 & 95.0 & 0.0 & 228.0 & 0.0 & 932.0 & 594.0 & $\\dots$ \\\\\n",
       "\t20 & 475.0 & 0.0 & 0.0 & 228.0 & 0.0 & 932.0 & 594.0 & $\\dots$ \\\\\n",
       "\t21 & 427.5 & 47.5 & 0.0 & 228.0 & 0.0 & 932.0 & 594.0 & $\\dots$ \\\\\n",
       "\t22 & 139.6 & 209.4 & 0.0 & 192.0 & 0.0 & 1047.0 & 806.9 & $\\dots$ \\\\\n",
       "\t23 & 139.6 & 209.4 & 0.0 & 192.0 & 0.0 & 1047.0 & 806.9 & $\\dots$ \\\\\n",
       "\t24 & 139.6 & 209.4 & 0.0 & 192.0 & 0.0 & 1047.0 & 806.9 & $\\dots$ \\\\\n",
       "\t25 & 380.0 & 0.0 & 0.0 & 228.0 & 0.0 & 932.0 & 670.0 & $\\dots$ \\\\\n",
       "\t26 & 380.0 & 0.0 & 0.0 & 228.0 & 0.0 & 932.0 & 670.0 & $\\dots$ \\\\\n",
       "\t27 & 380.0 & 95.0 & 0.0 & 228.0 & 0.0 & 932.0 & 594.0 & $\\dots$ \\\\\n",
       "\t28 & 342.0 & 38.0 & 0.0 & 228.0 & 0.0 & 932.0 & 670.0 & $\\dots$ \\\\\n",
       "\t29 & 427.5 & 47.5 & 0.0 & 228.0 & 0.0 & 932.0 & 594.0 & $\\dots$ \\\\\n",
       "\t30 & 475.0 & 0.0 & 0.0 & 228.0 & 0.0 & 932.0 & 594.0 & $\\dots$ \\\\\n",
       "\t$\\dots$ & $\\dots$ & $\\dots$ & $\\dots$ & $\\dots$ & $\\dots$ & $\\dots$ & $\\dots$ &  \\\\\n",
       "\\end{tabular}\n"
      ],
      "text/plain": [
       "1030×9 DataFrame. Omitted printing of 4 columns\n",
       "│ Row  │ Cement  │ Slag    │ Ash     │ Water   │ Superplasticizer │\n",
       "│      │ \u001b[90mFloat64\u001b[39m │ \u001b[90mFloat64\u001b[39m │ \u001b[90mFloat64\u001b[39m │ \u001b[90mFloat64\u001b[39m │ \u001b[90mFloat64\u001b[39m          │\n",
       "├──────┼─────────┼─────────┼─────────┼─────────┼──────────────────┤\n",
       "│ 1    │ 540.0   │ 0.0     │ 0.0     │ 162.0   │ 2.5              │\n",
       "│ 2    │ 540.0   │ 0.0     │ 0.0     │ 162.0   │ 2.5              │\n",
       "│ 3    │ 332.5   │ 142.5   │ 0.0     │ 228.0   │ 0.0              │\n",
       "│ 4    │ 332.5   │ 142.5   │ 0.0     │ 228.0   │ 0.0              │\n",
       "│ 5    │ 198.6   │ 132.4   │ 0.0     │ 192.0   │ 0.0              │\n",
       "│ 6    │ 266.0   │ 114.0   │ 0.0     │ 228.0   │ 0.0              │\n",
       "│ 7    │ 380.0   │ 95.0    │ 0.0     │ 228.0   │ 0.0              │\n",
       "│ 8    │ 380.0   │ 95.0    │ 0.0     │ 228.0   │ 0.0              │\n",
       "│ 9    │ 266.0   │ 114.0   │ 0.0     │ 228.0   │ 0.0              │\n",
       "│ 10   │ 475.0   │ 0.0     │ 0.0     │ 228.0   │ 0.0              │\n",
       "⋮\n",
       "│ 1020 │ 139.7   │ 163.9   │ 127.7   │ 236.7   │ 5.8              │\n",
       "│ 1021 │ 288.4   │ 121.0   │ 0.0     │ 177.4   │ 7.0              │\n",
       "│ 1022 │ 298.2   │ 0.0     │ 107.0   │ 209.7   │ 11.1             │\n",
       "│ 1023 │ 264.5   │ 111.0   │ 86.5    │ 195.5   │ 5.9              │\n",
       "│ 1024 │ 159.8   │ 250.0   │ 0.0     │ 168.4   │ 12.2             │\n",
       "│ 1025 │ 166.0   │ 259.7   │ 0.0     │ 183.2   │ 12.7             │\n",
       "│ 1026 │ 276.4   │ 116.0   │ 90.3    │ 179.6   │ 8.9              │\n",
       "│ 1027 │ 322.2   │ 0.0     │ 115.6   │ 196.0   │ 10.4             │\n",
       "│ 1028 │ 148.5   │ 139.4   │ 108.6   │ 192.7   │ 6.1              │\n",
       "│ 1029 │ 159.1   │ 186.7   │ 0.0     │ 175.6   │ 11.3             │\n",
       "│ 1030 │ 260.9   │ 100.5   │ 78.3    │ 200.6   │ 8.6              │"
      ]
     },
     "execution_count": 2,
     "metadata": {},
     "output_type": "execute_result"
    }
   ],
   "source": [
    "df = CSV.read(\"../datasets/Concrete Compressive Strength/Concrete_Data.csv\")"
   ]
  },
  {
   "cell_type": "code",
   "execution_count": 4,
   "metadata": {},
   "outputs": [
    {
     "name": "stderr",
     "output_type": "stream",
     "text": [
      "┌ Warning: `head(df::AbstractDataFrame)` is deprecated, use `first(df, 6)` instead.\n",
      "│   caller = top-level scope at In[4]:1\n",
      "└ @ Core In[4]:1\n"
     ]
    },
    {
     "data": {
      "text/html": [
       "<table class=\"data-frame\"><thead><tr><th></th><th>Cement</th><th>Slag</th><th>Ash</th><th>Water</th><th>Superplasticizer</th><th>Coarse_Aggregate</th><th>Fine_Aggregate</th></tr><tr><th></th><th>Float64</th><th>Float64</th><th>Float64</th><th>Float64</th><th>Float64</th><th>Float64</th><th>Float64</th></tr></thead><tbody><p>6 rows × 9 columns (omitted printing of 2 columns)</p><tr><th>1</th><td>540.0</td><td>0.0</td><td>0.0</td><td>162.0</td><td>2.5</td><td>1040.0</td><td>676.0</td></tr><tr><th>2</th><td>540.0</td><td>0.0</td><td>0.0</td><td>162.0</td><td>2.5</td><td>1055.0</td><td>676.0</td></tr><tr><th>3</th><td>332.5</td><td>142.5</td><td>0.0</td><td>228.0</td><td>0.0</td><td>932.0</td><td>594.0</td></tr><tr><th>4</th><td>332.5</td><td>142.5</td><td>0.0</td><td>228.0</td><td>0.0</td><td>932.0</td><td>594.0</td></tr><tr><th>5</th><td>198.6</td><td>132.4</td><td>0.0</td><td>192.0</td><td>0.0</td><td>978.4</td><td>825.5</td></tr><tr><th>6</th><td>266.0</td><td>114.0</td><td>0.0</td><td>228.0</td><td>0.0</td><td>932.0</td><td>670.0</td></tr></tbody></table>"
      ],
      "text/latex": [
       "\\begin{tabular}{r|cccccccc}\n",
       "\t& Cement & Slag & Ash & Water & Superplasticizer & Coarse\\_Aggregate & Fine\\_Aggregate & \\\\\n",
       "\t\\hline\n",
       "\t& Float64 & Float64 & Float64 & Float64 & Float64 & Float64 & Float64 & \\\\\n",
       "\t\\hline\n",
       "\t1 & 540.0 & 0.0 & 0.0 & 162.0 & 2.5 & 1040.0 & 676.0 & $\\dots$ \\\\\n",
       "\t2 & 540.0 & 0.0 & 0.0 & 162.0 & 2.5 & 1055.0 & 676.0 & $\\dots$ \\\\\n",
       "\t3 & 332.5 & 142.5 & 0.0 & 228.0 & 0.0 & 932.0 & 594.0 & $\\dots$ \\\\\n",
       "\t4 & 332.5 & 142.5 & 0.0 & 228.0 & 0.0 & 932.0 & 594.0 & $\\dots$ \\\\\n",
       "\t5 & 198.6 & 132.4 & 0.0 & 192.0 & 0.0 & 978.4 & 825.5 & $\\dots$ \\\\\n",
       "\t6 & 266.0 & 114.0 & 0.0 & 228.0 & 0.0 & 932.0 & 670.0 & $\\dots$ \\\\\n",
       "\\end{tabular}\n"
      ],
      "text/plain": [
       "6×9 DataFrame. Omitted printing of 4 columns\n",
       "│ Row │ Cement  │ Slag    │ Ash     │ Water   │ Superplasticizer │\n",
       "│     │ \u001b[90mFloat64\u001b[39m │ \u001b[90mFloat64\u001b[39m │ \u001b[90mFloat64\u001b[39m │ \u001b[90mFloat64\u001b[39m │ \u001b[90mFloat64\u001b[39m          │\n",
       "├─────┼─────────┼─────────┼─────────┼─────────┼──────────────────┤\n",
       "│ 1   │ 540.0   │ 0.0     │ 0.0     │ 162.0   │ 2.5              │\n",
       "│ 2   │ 540.0   │ 0.0     │ 0.0     │ 162.0   │ 2.5              │\n",
       "│ 3   │ 332.5   │ 142.5   │ 0.0     │ 228.0   │ 0.0              │\n",
       "│ 4   │ 332.5   │ 142.5   │ 0.0     │ 228.0   │ 0.0              │\n",
       "│ 5   │ 198.6   │ 132.4   │ 0.0     │ 192.0   │ 0.0              │\n",
       "│ 6   │ 266.0   │ 114.0   │ 0.0     │ 228.0   │ 0.0              │"
      ]
     },
     "execution_count": 4,
     "metadata": {},
     "output_type": "execute_result"
    }
   ],
   "source": [
    "head(df)"
   ]
  },
  {
   "cell_type": "code",
   "execution_count": null,
   "metadata": {},
   "outputs": [],
   "source": []
  }
 ],
 "metadata": {
  "kernelspec": {
   "display_name": "Julia 1.1.0",
   "language": "julia",
   "name": "julia-1.1"
  },
  "language_info": {
   "file_extension": ".jl",
   "mimetype": "application/julia",
   "name": "julia",
   "version": "1.1.0"
  }
 },
 "nbformat": 4,
 "nbformat_minor": 2
}
