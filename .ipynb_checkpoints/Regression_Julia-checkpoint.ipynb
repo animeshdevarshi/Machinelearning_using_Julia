{
 "cells": [
  {
   "cell_type": "code",
   "execution_count": 1,
   "metadata": {},
   "outputs": [],
   "source": [
    "using DataFrames\n",
    "using CSV\n",
    "using GLM\n",
    "using Suppressor\n",
    "using IJulia\n",
    "IJulia.clear_output();  #Clear warnings"
   ]
  },
  {
   "cell_type": "code",
   "execution_count": 2,
   "metadata": {},
   "outputs": [],
   "source": [
    "df = CSV.read(\"../datasets/Concrete Compressive Strength/Concrete_Data.csv\");"
   ]
  },
  {
   "cell_type": "code",
   "execution_count": 3,
   "metadata": {},
   "outputs": [
    {
     "data": {
      "text/html": [
       "<table class=\"data-frame\"><thead><tr><th></th><th>Cement</th><th>Slag</th><th>Ash</th><th>Water</th><th>Superplasticizer</th><th>Coarse_Aggregate</th><th>Fine_Aggregate</th></tr><tr><th></th><th>Float64</th><th>Float64</th><th>Float64</th><th>Float64</th><th>Float64</th><th>Float64</th><th>Float64</th></tr></thead><tbody><p>5 rows × 9 columns (omitted printing of 2 columns)</p><tr><th>1</th><td>540.0</td><td>0.0</td><td>0.0</td><td>162.0</td><td>2.5</td><td>1040.0</td><td>676.0</td></tr><tr><th>2</th><td>540.0</td><td>0.0</td><td>0.0</td><td>162.0</td><td>2.5</td><td>1055.0</td><td>676.0</td></tr><tr><th>3</th><td>332.5</td><td>142.5</td><td>0.0</td><td>228.0</td><td>0.0</td><td>932.0</td><td>594.0</td></tr><tr><th>4</th><td>332.5</td><td>142.5</td><td>0.0</td><td>228.0</td><td>0.0</td><td>932.0</td><td>594.0</td></tr><tr><th>5</th><td>198.6</td><td>132.4</td><td>0.0</td><td>192.0</td><td>0.0</td><td>978.4</td><td>825.5</td></tr></tbody></table>"
      ],
      "text/latex": [
       "\\begin{tabular}{r|cccccccc}\n",
       "\t& Cement & Slag & Ash & Water & Superplasticizer & Coarse\\_Aggregate & Fine\\_Aggregate & \\\\\n",
       "\t\\hline\n",
       "\t& Float64 & Float64 & Float64 & Float64 & Float64 & Float64 & Float64 & \\\\\n",
       "\t\\hline\n",
       "\t1 & 540.0 & 0.0 & 0.0 & 162.0 & 2.5 & 1040.0 & 676.0 & $\\dots$ \\\\\n",
       "\t2 & 540.0 & 0.0 & 0.0 & 162.0 & 2.5 & 1055.0 & 676.0 & $\\dots$ \\\\\n",
       "\t3 & 332.5 & 142.5 & 0.0 & 228.0 & 0.0 & 932.0 & 594.0 & $\\dots$ \\\\\n",
       "\t4 & 332.5 & 142.5 & 0.0 & 228.0 & 0.0 & 932.0 & 594.0 & $\\dots$ \\\\\n",
       "\t5 & 198.6 & 132.4 & 0.0 & 192.0 & 0.0 & 978.4 & 825.5 & $\\dots$ \\\\\n",
       "\\end{tabular}\n"
      ],
      "text/plain": [
       "5×9 DataFrame. Omitted printing of 4 columns\n",
       "│ Row │ Cement  │ Slag    │ Ash     │ Water   │ Superplasticizer │\n",
       "│     │ \u001b[90mFloat64\u001b[39m │ \u001b[90mFloat64\u001b[39m │ \u001b[90mFloat64\u001b[39m │ \u001b[90mFloat64\u001b[39m │ \u001b[90mFloat64\u001b[39m          │\n",
       "├─────┼─────────┼─────────┼─────────┼─────────┼──────────────────┤\n",
       "│ 1   │ 540.0   │ 0.0     │ 0.0     │ 162.0   │ 2.5              │\n",
       "│ 2   │ 540.0   │ 0.0     │ 0.0     │ 162.0   │ 2.5              │\n",
       "│ 3   │ 332.5   │ 142.5   │ 0.0     │ 228.0   │ 0.0              │\n",
       "│ 4   │ 332.5   │ 142.5   │ 0.0     │ 228.0   │ 0.0              │\n",
       "│ 5   │ 198.6   │ 132.4   │ 0.0     │ 192.0   │ 0.0              │"
      ]
     },
     "execution_count": 3,
     "metadata": {},
     "output_type": "execute_result"
    }
   ],
   "source": [
    "first(df,5)"
   ]
  },
  {
   "cell_type": "code",
   "execution_count": 4,
   "metadata": {},
   "outputs": [
    {
     "data": {
      "text/plain": [
       "DataFrame"
      ]
     },
     "execution_count": 4,
     "metadata": {},
     "output_type": "execute_result"
    }
   ],
   "source": [
    "typeof(df)"
   ]
  },
  {
   "cell_type": "code",
   "execution_count": 15,
   "metadata": {},
   "outputs": [
    {
     "data": {
      "text/html": [
       "<table class=\"data-frame\"><thead><tr><th></th><th>variable</th><th>mean</th><th>min</th><th>median</th><th>max</th><th>nunique</th><th>nmissing</th><th>eltype</th></tr><tr><th></th><th>Symbol</th><th>Float64</th><th>Real</th><th>Float64</th><th>Real</th><th>Nothing</th><th>Nothing</th><th>DataType</th></tr></thead><tbody><p>9 rows × 8 columns</p><tr><th>1</th><td>Cement</td><td>281.168</td><td>102.0</td><td>272.9</td><td>540.0</td><td></td><td></td><td>Float64</td></tr><tr><th>2</th><td>Slag</td><td>73.8958</td><td>0.0</td><td>22.0</td><td>359.4</td><td></td><td></td><td>Float64</td></tr><tr><th>3</th><td>Ash</td><td>54.1883</td><td>0.0</td><td>0.0</td><td>200.1</td><td></td><td></td><td>Float64</td></tr><tr><th>4</th><td>Water</td><td>181.567</td><td>121.8</td><td>185.0</td><td>247.0</td><td></td><td></td><td>Float64</td></tr><tr><th>5</th><td>Superplasticizer</td><td>6.20466</td><td>0.0</td><td>6.4</td><td>32.2</td><td></td><td></td><td>Float64</td></tr><tr><th>6</th><td>Coarse_Aggregate</td><td>972.919</td><td>801.0</td><td>968.0</td><td>1145.0</td><td></td><td></td><td>Float64</td></tr><tr><th>7</th><td>Fine_Aggregate</td><td>773.58</td><td>594.0</td><td>779.5</td><td>992.6</td><td></td><td></td><td>Float64</td></tr><tr><th>8</th><td>Age</td><td>45.6621</td><td>1</td><td>28.0</td><td>365</td><td></td><td></td><td>Int64</td></tr><tr><th>9</th><td>compressive_strength</td><td>35.818</td><td>2.33</td><td>34.445</td><td>82.6</td><td></td><td></td><td>Float64</td></tr></tbody></table>"
      ],
      "text/latex": [
       "\\begin{tabular}{r|cccccccc}\n",
       "\t& variable & mean & min & median & max & nunique & nmissing & eltype\\\\\n",
       "\t\\hline\n",
       "\t& Symbol & Float64 & Real & Float64 & Real & Nothing & Nothing & DataType\\\\\n",
       "\t\\hline\n",
       "\t1 & Cement & 281.168 & 102.0 & 272.9 & 540.0 &  &  & Float64 \\\\\n",
       "\t2 & Slag & 73.8958 & 0.0 & 22.0 & 359.4 &  &  & Float64 \\\\\n",
       "\t3 & Ash & 54.1883 & 0.0 & 0.0 & 200.1 &  &  & Float64 \\\\\n",
       "\t4 & Water & 181.567 & 121.8 & 185.0 & 247.0 &  &  & Float64 \\\\\n",
       "\t5 & Superplasticizer & 6.20466 & 0.0 & 6.4 & 32.2 &  &  & Float64 \\\\\n",
       "\t6 & Coarse\\_Aggregate & 972.919 & 801.0 & 968.0 & 1145.0 &  &  & Float64 \\\\\n",
       "\t7 & Fine\\_Aggregate & 773.58 & 594.0 & 779.5 & 992.6 &  &  & Float64 \\\\\n",
       "\t8 & Age & 45.6621 & 1 & 28.0 & 365 &  &  & Int64 \\\\\n",
       "\t9 & compressive\\_strength & 35.818 & 2.33 & 34.445 & 82.6 &  &  & Float64 \\\\\n",
       "\\end{tabular}\n"
      ],
      "text/plain": [
       "9×8 DataFrame. Omitted printing of 2 columns\n",
       "│ Row │ variable             │ mean    │ min   │ median  │ max    │ nunique │\n",
       "│     │ \u001b[90mSymbol\u001b[39m               │ \u001b[90mFloat64\u001b[39m │ \u001b[90mReal\u001b[39m  │ \u001b[90mFloat64\u001b[39m │ \u001b[90mReal\u001b[39m   │ \u001b[90mNothing\u001b[39m │\n",
       "├─────┼──────────────────────┼─────────┼───────┼─────────┼────────┼─────────┤\n",
       "│ 1   │ Cement               │ 281.168 │ 102.0 │ 272.9   │ 540.0  │         │\n",
       "│ 2   │ Slag                 │ 73.8958 │ 0.0   │ 22.0    │ 359.4  │         │\n",
       "│ 3   │ Ash                  │ 54.1883 │ 0.0   │ 0.0     │ 200.1  │         │\n",
       "│ 4   │ Water                │ 181.567 │ 121.8 │ 185.0   │ 247.0  │         │\n",
       "│ 5   │ Superplasticizer     │ 6.20466 │ 0.0   │ 6.4     │ 32.2   │         │\n",
       "│ 6   │ Coarse_Aggregate     │ 972.919 │ 801.0 │ 968.0   │ 1145.0 │         │\n",
       "│ 7   │ Fine_Aggregate       │ 773.58  │ 594.0 │ 779.5   │ 992.6  │         │\n",
       "│ 8   │ Age                  │ 45.6621 │ 1     │ 28.0    │ 365    │         │\n",
       "│ 9   │ compressive_strength │ 35.818  │ 2.33  │ 34.445  │ 82.6   │         │"
      ]
     },
     "execution_count": 15,
     "metadata": {},
     "output_type": "execute_result"
    }
   ],
   "source": [
    "describe(df)"
   ]
  },
  {
   "cell_type": "code",
   "execution_count": 6,
   "metadata": {},
   "outputs": [],
   "source": [
    "X = df[:, [:Cement, :Slag, :Ash, :Water, :Superplasticizer, :Coarse_Aggregate, :Fine_Aggregate, :Age  ]];\n",
    "y = df[:, :compressive_strength];"
   ]
  },
  {
   "cell_type": "markdown",
   "metadata": {},
   "source": [
    "### Method 1: lm using GLM package"
   ]
  },
  {
   "cell_type": "code",
   "execution_count": 7,
   "metadata": {},
   "outputs": [
    {
     "data": {
      "text/plain": [
       "StatsModels.DataFrameRegressionModel{LinearModel{LmResp{Array{Float64,1}},DensePredChol{Float64,LinearAlgebra.Cholesky{Float64,Array{Float64,2}}}},Array{Float64,2}}\n",
       "\n",
       "Formula: compressive_strength ~ 1 + Cement + Slag + Ash + Water + Superplasticizer + Coarse_Aggregate + Fine_Aggregate + Age\n",
       "\n",
       "Coefficients:\n",
       "───────────────────────────────────────────────────────────────\n",
       "                     Estimate    Std.Error    t value  Pr(>|t|)\n",
       "───────────────────────────────────────────────────────────────\n",
       "(Intercept)       -23.3312     26.5855      -0.877592    0.3804\n",
       "Cement              0.119804    0.00848902  14.1129      <1e-40\n",
       "Slag                0.103866    0.0101358   10.2474      <1e-22\n",
       "Ash                 0.0879343   0.0125833    6.98817     <1e-11\n",
       "Water              -0.149918    0.040177    -3.73145     0.0002\n",
       "Superplasticizer    0.292225    0.0934241    3.12794     0.0018\n",
       "Coarse_Aggregate    0.0180862   0.00939224   1.92566     0.0544\n",
       "Fine_Aggregate      0.0201904   0.0107017    1.88665     0.0595\n",
       "Age                 0.114222    0.00542715  21.0464      <1e-81\n",
       "───────────────────────────────────────────────────────────────"
      ]
     },
     "execution_count": 7,
     "metadata": {},
     "output_type": "execute_result"
    }
   ],
   "source": [
    "ols = lm(@formula(compressive_strength ~ Cement+Slag+Ash+Water+Superplasticizer+Coarse_Aggregate+Fine_Aggregate+Age), df)"
   ]
  },
  {
   "cell_type": "code",
   "execution_count": 8,
   "metadata": {},
   "outputs": [],
   "source": [
    "y_pred = predict(ols);"
   ]
  },
  {
   "cell_type": "code",
   "execution_count": 12,
   "metadata": {},
   "outputs": [
    {
     "data": {
      "text/plain": [
       "r_squared (generic function with 1 method)"
      ]
     },
     "execution_count": 12,
     "metadata": {},
     "output_type": "execute_result"
    }
   ],
   "source": [
    "using LinearAlgebra\n",
    "using Statistics\n",
    "\n",
    "function r_squared(actual, predicted )\n",
    "    TSS =sum( (actual .- mean(actual)).^2  )\n",
    "    RSS = sum( (actual - predicted).^2 )\n",
    "    return(1 - RSS/TSS)\n",
    "end"
   ]
  },
  {
   "cell_type": "code",
   "execution_count": 12,
   "metadata": {},
   "outputs": [
    {
     "data": {
      "text/plain": [
       "0.6155198704142724"
      ]
     },
     "execution_count": 12,
     "metadata": {},
     "output_type": "execute_result"
    }
   ],
   "source": [
    "r_squared(y, y_pred)"
   ]
  },
  {
   "cell_type": "markdown",
   "metadata": {},
   "source": [
    "### Method 2: lm using  Using ScikitLearn"
   ]
  },
  {
   "cell_type": "code",
   "execution_count": 7,
   "metadata": {},
   "outputs": [],
   "source": [
    "using ScikitLearn\n",
    "using ScikitLearn: fit!, predict, score\n",
    "@sk_import metrics: accuracy_score\n",
    "@sk_import linear_model: LinearRegression\n",
    "IJulia.clear_output();  #Clear warnings"
   ]
  },
  {
   "cell_type": "code",
   "execution_count": 8,
   "metadata": {},
   "outputs": [],
   "source": [
    "model = LinearRegression()\n",
    "X = convert(Matrix, X);\n",
    "y = convert(Array, y);\n",
    "fit!(model,X,y);\n",
    "r_square = score(model,X,y)\n",
    "IJulia.clear_output();  "
   ]
  },
  {
   "cell_type": "code",
   "execution_count": 9,
   "metadata": {},
   "outputs": [
    {
     "data": {
      "text/plain": [
       "0.6155198704142721"
      ]
     },
     "execution_count": 9,
     "metadata": {},
     "output_type": "execute_result"
    }
   ],
   "source": [
    "r_square"
   ]
  },
  {
   "cell_type": "code",
   "execution_count": 11,
   "metadata": {},
   "outputs": [],
   "source": [
    "y_pred = predict(model, X);\n",
    "IJulia.clear_output(); "
   ]
  },
  {
   "cell_type": "code",
   "execution_count": 13,
   "metadata": {},
   "outputs": [
    {
     "data": {
      "text/plain": [
       "0.6155198704142724"
      ]
     },
     "execution_count": 13,
     "metadata": {},
     "output_type": "execute_result"
    }
   ],
   "source": [
    "r_squared(y,y_pred)"
   ]
  },
  {
   "cell_type": "code",
   "execution_count": null,
   "metadata": {},
   "outputs": [],
   "source": []
  }
 ],
 "metadata": {
  "kernelspec": {
   "display_name": "Julia 1.1.0",
   "language": "julia",
   "name": "julia-1.1"
  },
  "language_info": {
   "file_extension": ".jl",
   "mimetype": "application/julia",
   "name": "julia",
   "version": "1.1.0"
  }
 },
 "nbformat": 4,
 "nbformat_minor": 2
}
